{
 "cells": [
  {
   "cell_type": "code",
   "execution_count": 32,
   "id": "286a53d5",
   "metadata": {},
   "outputs": [],
   "source": [
    "###Take folder directory as input, aggregate all data together using filename as value in frame column\n",
    "\n",
    "\n",
    "#imports\n",
    "import numpy as np\n",
    "import pandas as pd\n",
    "import os"
   ]
  },
  {
   "cell_type": "code",
   "execution_count": 33,
   "id": "af9cfe84",
   "metadata": {},
   "outputs": [],
   "source": [
    "#read in file\n",
    "\n",
    "\n",
    "#folder_path = './processed_day1_test1/'\n",
    "\n",
    "#folder_path = './processed_day1_test2/'\n",
    "\n",
    "#folder_path = './processed_day1_test3/'\n",
    "\n",
    "folder_path = './processed_image-set/'\n"
   ]
  },
  {
   "cell_type": "code",
   "execution_count": null,
   "id": "6fb698e5",
   "metadata": {},
   "outputs": [],
   "source": [
    "files = [f for f in os.listdir(folder_path)]# if os.path.isfile(f)]\n",
    "\n",
    "merged = []\n",
    "\n",
    "for f in files:\n",
    "    filename, ext = os.path.splitext(f)\n",
    "    if ext == '.csv':\n",
    "        read = pd.read_csv(os.path.join(folder_path,f))\n",
    "        read['frame'] = int(filename[0:3])\n",
    "        merged.append(read)\n",
    "\n",
    "result = pd.concat(merged)\n",
    "\n"
   ]
  },
  {
   "cell_type": "code",
   "execution_count": null,
   "id": "a9c8a9e0",
   "metadata": {},
   "outputs": [],
   "source": [
    "#add index column as the frame col probably\n",
    "result.set_index('frame',inplace=True)\n",
    "result.sort_index(inplace=True)\n",
    "\n",
    "result"
   ]
  },
  {
   "cell_type": "code",
   "execution_count": null,
   "id": "764b28a7",
   "metadata": {},
   "outputs": [],
   "source": [
    "result.to_csv(folder_path+'openface_features.csv')"
   ]
  },
  {
   "cell_type": "code",
   "execution_count": null,
   "id": "18c6e78c",
   "metadata": {},
   "outputs": [],
   "source": []
  }
 ],
 "metadata": {
  "kernelspec": {
   "display_name": "Python 3",
   "language": "python",
   "name": "python3"
  },
  "language_info": {
   "codemirror_mode": {
    "name": "ipython",
    "version": 3
   },
   "file_extension": ".py",
   "mimetype": "text/x-python",
   "name": "python",
   "nbconvert_exporter": "python",
   "pygments_lexer": "ipython3",
   "version": "3.7.3"
  }
 },
 "nbformat": 4,
 "nbformat_minor": 5
}
