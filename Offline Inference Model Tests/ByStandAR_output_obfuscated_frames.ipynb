{
 "cells": [
  {
   "cell_type": "code",
   "execution_count": 27,
   "id": "286a53d5",
   "metadata": {},
   "outputs": [],
   "source": [
    "#imports\n",
    "from scipy import ndimage \n",
    "import imageio\n",
    "#from scipy import misc\n",
    "import numpy as np\n",
    "import pandas as pd\n",
    "import os\n"
   ]
  },
  {
   "cell_type": "code",
   "execution_count": 28,
   "id": "eb1b3a7a",
   "metadata": {},
   "outputs": [],
   "source": [
    "#loop through face labels and black out all that are marked as a bystander\n",
    "def obfuscate_faces(faces_df,frame_id,img_path,labels_df,obfuscated_path):\n",
    "    #load img from source (using frame_id)\n",
    "    \n",
    "    if \"day\" in img_path:\n",
    "        img_file_path = img_path + str(frame_id).zfill(3) + '.jpg'\n",
    "    else:\n",
    "        img_file_path = img_path + str(frame_id) + '.jpg'\n",
    "    \n",
    "    try:\n",
    "        frame_img = imageio.imread(img_file_path)\n",
    "    except:\n",
    "        print(img_file_path)\n",
    "        #return faces_df\n",
    "        return []\n",
    "    #print(frame_img.shape)\n",
    "    img_w, img_h = frame_img.shape[1],frame_img.shape[0]\n",
    "    \n",
    "    \n",
    "    face_ids = np.unique(faces_df['face'].values)\n",
    "    \n",
    "    #loop over faces\n",
    "    for face_id in face_ids:\n",
    "        curr_face_idx = faces_df['face'].values == face_id    \n",
    "        curr_face_df  = faces_df[curr_face_idx]\n",
    "        \n",
    "        curr_face_label_idx = labels_df['face'].values == face_id    \n",
    "        curr_face_label_df  = labels_df[curr_face_label_idx]\n",
    "        \n",
    "        #if face didn't pass confidence test before, won't have a label, so skip\n",
    "        if curr_face_label_df.empty:\n",
    "            continue\n",
    "        \n",
    "        #only obscure bystanders \n",
    "        if curr_face_label_df['Bystander Label'].values[0] == 0:\n",
    "            continue\n",
    "        \n",
    "        #use landmarks to get 2d bounding box of face in image frame\n",
    "        bb_left   = int(curr_face_df[' x_0'])\n",
    "        bb_right  = int(curr_face_df[' x_16'])\n",
    "        bb_top    = int(curr_face_df[' y_24'])\n",
    "        bb_bottom = int(curr_face_df[' y_8'])\n",
    "\n",
    "        #print(bb_top)\n",
    "        #print(bb_bottom)\n",
    "        if bb_left < 0 | bb_right >= img_w | bb_top < 0 | bb_bottom >= img_h:\n",
    "            print('Out of bounds: Frame '+str(frame_id) + ' Face ' + str(face_id))\n",
    "            continue\n",
    "        \n",
    "        #black out the face region\n",
    "        frame_img[bb_top:bb_bottom,bb_left:bb_right,:] = 0\n",
    "        \n",
    "    #save the image with obfuscated faces\n",
    "    try:\n",
    "        imageio.imwrite(obfuscated_path + str(frame_id)+'.jpg',frame_img)\n",
    "    except:\n",
    "        #print(bb_left)\n",
    "        #print(bb_right)\n",
    "        #print(bb_top)\n",
    "        #print(bb_bottom)\n",
    "        print('Error writing cropped face')                                                  \n",
    "                                                        \n",
    "    return faces_df"
   ]
  },
  {
   "cell_type": "code",
   "execution_count": 29,
   "id": "af9cfe84",
   "metadata": {},
   "outputs": [],
   "source": [
    "#read in file\n",
    "\n",
    "dataset = 'day1_test1'\n",
    "#dataset = 'day1_test2'\n",
    "#dataset = 'day1_test3'\n",
    "\n",
    "obfuscated_dataset = './' + dataset + '_obfuscated' + '/'\n",
    "if not os.path.exists(obfuscated_dataset):\n",
    "    os.makedirs(obfuscated_dataset)\n",
    "\n",
    "feature_path = './processed_' + dataset + '/openface_features.csv'\n",
    "img_path     = './' + dataset + '/'\n",
    "labels_path  = './' + dataset + '_predictions.csv'\n",
    "\n",
    "face_features_df = pd.read_csv(feature_path)\n",
    "labels_df        = pd.read_csv(labels_path)\n"
   ]
  },
  {
   "cell_type": "code",
   "execution_count": 30,
   "id": "63c6f239",
   "metadata": {},
   "outputs": [
    {
     "name": "stderr",
     "output_type": "stream",
     "text": [
      "C:\\Users\\Brendan David-John\\AppData\\Local\\Temp\\ipykernel_12432\\4058854017.py:11: DeprecationWarning: Starting with ImageIO v3 the behavior of this function will switch to that of iio.v3.imread. To keep the current behavior (and make this warning dissapear) use `import imageio.v2 as imageio` or call `imageio.v2.imread` directly.\n",
      "  frame_img = imageio.imread(img_file_path)\n"
     ]
    }
   ],
   "source": [
    "frame_ids = np.unique(face_features_df['frame'].values)\n",
    "\n",
    "\n",
    "#loop over frames\n",
    "for frame_id in frame_ids:\n",
    "    curr_frame_face_idx = face_features_df['frame'].values == frame_id                            \n",
    "    curr_df = face_features_df[curr_frame_face_idx]\n",
    "    \n",
    "    #should also get curr labels for this frame\n",
    "    curr_labels_face_idx = labels_df['frame'].values == frame_id                            \n",
    "    curr_labels_df       = labels_df[curr_labels_face_idx]\n",
    "    \n",
    "    #call write_out_obfuscate\n",
    "    obfuscate_faces(curr_df,frame_id,img_path,curr_labels_df,obfuscated_dataset)"
   ]
  },
  {
   "cell_type": "code",
   "execution_count": null,
   "id": "6fb698e5",
   "metadata": {},
   "outputs": [],
   "source": []
  }
 ],
 "metadata": {
  "kernelspec": {
   "display_name": "Python 3 (ipykernel)",
   "language": "python",
   "name": "python3"
  },
  "language_info": {
   "codemirror_mode": {
    "name": "ipython",
    "version": 3
   },
   "file_extension": ".py",
   "mimetype": "text/x-python",
   "name": "python",
   "nbconvert_exporter": "python",
   "pygments_lexer": "ipython3",
   "version": "3.9.13"
  }
 },
 "nbformat": 4,
 "nbformat_minor": 5
}
